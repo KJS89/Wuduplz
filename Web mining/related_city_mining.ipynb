{
 "cells": [
  {
   "cell_type": "code",
   "execution_count": 1,
   "metadata": {},
   "outputs": [],
   "source": [
    "import wikipedia\n",
    "import warnings\n",
    "import spacy\n",
    "import geonamescache\n",
    "import csv\n",
    "import pandas as pd"
   ]
  },
  {
   "cell_type": "code",
   "execution_count": 2,
   "metadata": {},
   "outputs": [],
   "source": [
    "# get the city list\n",
    "\n",
    "gc = geonamescache.GeonamesCache()\n",
    "\n",
    "cities = gc.get_cities()\n",
    "\n",
    "def gen_dict_extract(var, key):\n",
    "    if isinstance(var, dict):\n",
    "        for k, v in var.items():\n",
    "            if k == key:\n",
    "                yield v\n",
    "            if isinstance(v, (dict, list)):\n",
    "                yield from gen_dict_extract(v, key)\n",
    "    elif isinstance(var, list):\n",
    "        for d in var:\n",
    "            yield from gen_dict_extract(d, key)\n",
    "\n",
    "cities = [*gen_dict_extract(cities, 'name')]"
   ]
  },
  {
   "cell_type": "code",
   "execution_count": 3,
   "metadata": {},
   "outputs": [],
   "source": [
    "def get_city(string): \n",
    "    #(string) -> string\n",
    "    #once we input a string, it will return a city most relate to this string. \n",
    "    #If we can't find a city relate to this string, it will return nothing.\n",
    "    #For example : get_city('Peter Parker') -> 'New York City'\n",
    "  warnings.filterwarnings('ignore')\n",
    "  nlp = spacy.load('en')\n",
    "\n",
    "  try:\n",
    "    # get page summary from wikipedia\n",
    "    page = wikipedia.page(string)\n",
    "    tem =str(page.summary)\n",
    "    doc = nlp(tem)\n",
    "    sentences = list(doc.sents)\n",
    "    ls = []\n",
    "    # get the location words\n",
    "    for sentence in sentences:\n",
    "      process = nlp(sentence.text).ents\n",
    "      for token in process:\n",
    "        if token.text in cities:\n",
    "          ls.append(token.text)\n",
    "    if len(ls) != 0:\n",
    "        frequent_location = max(ls,key=ls.count) \n",
    "        return(frequent_location)\n",
    "  #check whether the related page exist\n",
    "  except wikipedia.exceptions.PageError:\n",
    "    pass\n",
    "  # to deal with vague input \n",
    "  except wikipedia.exceptions.DisambiguationError as e:\n",
    "    get_city(e.options[0])"
   ]
  },
  {
   "cell_type": "code",
   "execution_count": 4,
   "metadata": {},
   "outputs": [
    {
     "data": {
      "text/plain": [
       "'New York City'"
      ]
     },
     "execution_count": 4,
     "metadata": {},
     "output_type": "execute_result"
    }
   ],
   "source": [
    "get_city('Peter Parker')"
   ]
  },
  {
   "cell_type": "code",
   "execution_count": 5,
   "metadata": {},
   "outputs": [],
   "source": [
    "word_ls = []\n",
    "city_ls = []"
   ]
  },
  {
   "cell_type": "code",
   "execution_count": 6,
   "metadata": {},
   "outputs": [],
   "source": [
    "#get the trending words of Twitter\n",
    "file = open(\"./trending_word.txt\")\n",
    "#save the trending words and its related city to list\n",
    "lines = file.readlines()\n",
    "for line in lines:\n",
    "    #print(line)\n",
    "    tem = get_city(line.strip())\n",
    "    if tem != None:\n",
    "        word_ls.append(line)\n",
    "        city_ls.append(tem)"
   ]
  },
  {
   "cell_type": "code",
   "execution_count": 9,
   "metadata": {},
   "outputs": [],
   "source": [
    "#save the trending words and its related city to csv file\n",
    "dataframe = pd.DataFrame({'trending word':word_ls,'related city':city_ls})\n",
    "\n",
    "dataframe.to_csv(\"demo.csv\",index=False)"
   ]
  },
  {
   "cell_type": "code",
   "execution_count": null,
   "metadata": {},
   "outputs": [],
   "source": []
  }
 ],
 "metadata": {
  "kernelspec": {
   "display_name": "Python 3",
   "language": "python",
   "name": "python3"
  },
  "language_info": {
   "codemirror_mode": {
    "name": "ipython",
    "version": 3
   },
   "file_extension": ".py",
   "mimetype": "text/x-python",
   "name": "python",
   "nbconvert_exporter": "python",
   "pygments_lexer": "ipython3",
   "version": "3.8.2"
  }
 },
 "nbformat": 4,
 "nbformat_minor": 4
}
