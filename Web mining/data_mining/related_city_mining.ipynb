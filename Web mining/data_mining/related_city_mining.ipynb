{
 "cells": [
  {
   "cell_type": "code",
   "execution_count": 1,
   "metadata": {},
   "outputs": [],
   "source": [
    "from requests_html import HTMLSession\n",
    "import wikipedia\n",
    "import warnings\n",
    "import spacy\n",
    "import geonamescache\n",
    "import csv\n",
    "import pandas as pd"
   ]
  },
  {
   "cell_type": "code",
   "execution_count": 2,
   "metadata": {},
   "outputs": [],
   "source": [
    "gc = geonamescache.GeonamesCache()\n",
    "\n",
    "# gets nested dictionary for countries\n",
    "countries = gc.get_countries()\n",
    "\n",
    "# gets nested dictionary for cities\n",
    "cities = gc.get_cities()"
   ]
  },
  {
   "cell_type": "code",
   "execution_count": 3,
   "metadata": {},
   "outputs": [],
   "source": [
    "def gen_dict_extract(var, key):\n",
    "    if isinstance(var, dict):\n",
    "        for k, v in var.items():\n",
    "            if k == key:\n",
    "                yield v\n",
    "            if isinstance(v, (dict, list)):\n",
    "                yield from gen_dict_extract(v, key)\n",
    "    elif isinstance(var, list):\n",
    "        for d in var:\n",
    "            yield from gen_dict_extract(d, key)"
   ]
  },
  {
   "cell_type": "code",
   "execution_count": 4,
   "metadata": {},
   "outputs": [],
   "source": [
    "cities = [*gen_dict_extract(cities, 'name')]"
   ]
  },
  {
   "cell_type": "code",
   "execution_count": 7,
   "metadata": {},
   "outputs": [],
   "source": [
    "def get_url(string):\n",
    "    url = ''\n",
    "    try:\n",
    "        # get page url from wikipedia\n",
    "        page = wikipedia.page(string)\n",
    "        url = page.url\n",
    "    except wikipedia.exceptions.PageError:\n",
    "        #too see weather there is one this page\n",
    "        pass\n",
    "    except wikipedia.exceptions.DisambiguationError as e:\n",
    "        get_url(e.options[0])\n",
    "    return url"
   ]
  },
  {
   "cell_type": "code",
   "execution_count": 8,
   "metadata": {},
   "outputs": [],
   "source": [
    "def get_city_list(string): \n",
    "  warnings.filterwarnings('ignore')\n",
    "  nlp = spacy.load('en')\n",
    "  doc = nlp(string)\n",
    "  sentences = list(doc.sents)\n",
    "  ls = []\n",
    "  # get the location words\n",
    "  for sentence in sentences:\n",
    "    process = nlp(sentence.text).ents\n",
    "    for token in process:\n",
    "      #print(token)\n",
    "      if token.text in cities:\n",
    "        ls.append(token.text)\n",
    "  return ls"
   ]
  },
  {
   "cell_type": "code",
   "execution_count": 18,
   "metadata": {},
   "outputs": [],
   "source": [
    "def get_webinfo(url):\n",
    "    result = ''\n",
    "    if len(url) == 0:\n",
    "        return result\n",
    "    session = HTMLSession()\n",
    "    r = session.get(url)\n",
    "    sel1='#mw-content-text > div.mw-parser-output > table'\n",
    "    sel2='#mw-content-text > div.mw-parser-output > table.infobox.vcard'\n",
    "    ls_sel=[sel1,sel2]\n",
    "    for i in ls_sel:\n",
    "        result1 = r.html.find(i)\n",
    "        if len(result1) == 0:\n",
    "            continue\n",
    "        result = result1[0].text.replace(\"\\n\", \" \")\n",
    "        #print(result)\n",
    "        if result[:18]!='This article needs':\n",
    "            break\n",
    "    #print(result)\n",
    "    return result"
   ]
  },
  {
   "cell_type": "code",
   "execution_count": 10,
   "metadata": {},
   "outputs": [],
   "source": [
    "def get_related_city(search,ls):\n",
    "  dictionary = {}\n",
    "  for key in ls:\n",
    "      dictionary[key] = dictionary.get(key, 0) + 1\n",
    "  tem = sorted(dictionary.items(), key=lambda d: d[1])\n",
    "  tem_list = list(tem)\n",
    "  #return tem_list\n",
    "  for i in tem_list:\n",
    "      #print(tem_list[-1][0])\n",
    "      if tem_list[-1][0] not in search:\n",
    "          return tem_list[-1][0]\n",
    "      else:\n",
    "          tem_list = tem_list[:-1]"
   ]
  },
  {
   "cell_type": "code",
   "execution_count": 37,
   "metadata": {},
   "outputs": [],
   "source": [
    "def get_city(search):\n",
    "    url = get_url(search)\n",
    "    if url =='':\n",
    "        return None\n",
    "    tem = get_webinfo(url)\n",
    "    if tem =='':\n",
    "        return None\n",
    "    ls = get_city_list(tem)\n",
    "    if ls ==[]:\n",
    "        return None\n",
    "    result = get_related_city(search,ls)\n",
    "    return result"
   ]
  },
  {
   "cell_type": "code",
   "execution_count": 51,
   "metadata": {},
   "outputs": [
    {
     "data": {
      "text/plain": [
       "'New York City'"
      ]
     },
     "execution_count": 51,
     "metadata": {},
     "output_type": "execute_result"
    }
   ],
   "source": [
    "get_city(\"Donald Trump\")"
   ]
  },
  {
   "cell_type": "code",
   "execution_count": 12,
   "metadata": {},
   "outputs": [],
   "source": [
    "word_ls = []\n",
    "city_ls = []"
   ]
  },
  {
   "cell_type": "code",
   "execution_count": 17,
   "metadata": {},
   "outputs": [],
   "source": [
    "#get the trending words of Twitter\n",
    "file = open(\"./demo_trending_word.txt\")\n",
    "#save the trending words and its related city to list\n",
    "lines = file.readlines()\n",
    "for line in lines:\n",
    "    #print(line)\n",
    "    tem = get_city(line.strip())\n",
    "    if tem != None:\n",
    "        word_ls.append(line)\n",
    "        city_ls.append(tem)"
   ]
  },
  {
   "cell_type": "code",
   "execution_count": 20,
   "metadata": {},
   "outputs": [],
   "source": [
    "#save the trending words and its related city to csv file\n",
    "dataframe = pd.DataFrame({'trending word':word_ls,'related city':city_ls})\n",
    "\n",
    "dataframe.to_csv(\"demo_related_city.csv\",index=False)"
   ]
  },
  {
   "cell_type": "code",
   "execution_count": null,
   "metadata": {},
   "outputs": [],
   "source": []
  }
 ],
 "metadata": {
  "kernelspec": {
   "display_name": "Python 3",
   "language": "python",
   "name": "python3"
  },
  "language_info": {
   "codemirror_mode": {
    "name": "ipython",
    "version": 3
   },
   "file_extension": ".py",
   "mimetype": "text/x-python",
   "name": "python",
   "nbconvert_exporter": "python",
   "pygments_lexer": "ipython3",
   "version": "3.8.2"
  }
 },
 "nbformat": 4,
 "nbformat_minor": 4
}
